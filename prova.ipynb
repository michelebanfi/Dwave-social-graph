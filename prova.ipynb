{
 "cells": [
  {
   "metadata": {
    "ExecuteTime": {
     "end_time": "2024-07-14T14:01:33.963220Z",
     "start_time": "2024-07-14T14:01:31.448296Z"
    }
   },
   "cell_type": "code",
   "source": [
    "import pandas as pd\n",
    "import matplotlib.pyplot as plt\n",
    "import networkx as nx\n",
    "import numpy as np\n",
    "from dwave.system import LeapHybridCQMSampler\n",
    "from dimod import ConstrainedQuadraticModel, Binary\n",
    "\n",
    "from Utils import dataPreparation, drawGraph"
   ],
   "id": "1e36ba02059127e2",
   "outputs": [],
   "execution_count": 1
  },
  {
   "metadata": {
    "ExecuteTime": {
     "end_time": "2024-07-14T14:01:40.358441Z",
     "start_time": "2024-07-14T14:01:33.963220Z"
    }
   },
   "cell_type": "code",
   "source": [
    "\n",
    "data = dataPreparation(\"Dyadic_COW_4.0.csv\")\n",
    "\n",
    "# Create an empty directed graph\n",
    "G = nx.Graph()\n",
    "\n",
    "# Add edges to the graph\n",
    "for idx, row in data.iterrows():\n",
    "    G.add_edge(row[\"ccode1\"], row[\"ccode2\"], weight=row[\"flow1_pct_change\"])\n",
    "\n",
    "# create a dictionary between country codes and country names\n",
    "ccodes = data['ccode1'].unique()\n",
    "cnames = data['importer1'].unique()\n",
    "\n",
    "ccode_dict = dict(zip(ccodes, cnames))\n",
    "ccode_dictReversed = {v: k for k, v in ccode_dict.items()}\n",
    "\n",
    "# Draw the graph\n",
    "print(\"Plotting the graph\")\n",
    "drawGraph(G, \"graph.png\", ccode_dict)\n",
    "\n",
    "# print the number of nodes\n",
    "print(\"Nodes present in the graph: \", len(G.nodes))\n",
    "\n",
    "# create a method to remove a node from the graph and his edges\n",
    "def remove_node(G, node):\n",
    "    # remove the node from the graph\n",
    "    G.remove_node(node)\n",
    "\n",
    "# # list of removable nodes\n",
    "# list = [\"San Marino\", \"East Timor\", \"Monaco\", \"Yugoslavia\", \"Andorra\", \"Cape Verde\", \"Marshall Islands\", \"Vietnam\",\n",
    "#         \"Sao Tome and Principe\", \"Kiribati\", \"Tuvalu\", \"Nauru\", \"Palau\", \"Solomon Islands\", \"Vanuatu\", \"Comoros\",\n",
    "#         \"Seychelles\", \"Mauritius\", \"Maldives\", \"Liechtenstein\", \"Federated States of Micronesia\", \"Vietnam\",\n",
    "#         \"Liechtenstein\", \"South Sudan\", \"Kazakhstan\", \"Venezuela\", \"Nicaragua\"]\n",
    "\n",
    "# list of foundamental nodes\n",
    "f_list = [\"United States of America\", \"Italy\", \"Germany\", \"Canada\", \"China\", \"Russia\", \"Japan\", \"Brazil\", \"India\",\n",
    "          \"France\", \"United Kingdom\", \"Australia\", \"Spain\", \"Mexico\", \"South Korea\", \"Netherlands\", \"Turkey\",\n",
    "          \"Saudi Arabia\", \"Indonesia\", \"Switzerland\", \"Sweden\", \"Norway\", \"Denmark\", \"Finland\", \"Belgium\",\n",
    "          \"Austria\", \"Poland\", \"Czech Republic\", \"Portugal\", \"Greece\", \"Ireland\", \"Hungary\", \"Romania\", \"Bulgaria\",\n",
    "          \"Croatia\", \"Slovenia\", \"Slovakia\", \"Estonia\", \"Latvia\", \"Lithuania\", \"Cyprus\", \"Malta\", \"Luxembourg\",\n",
    "          \"Iceland\", \"New Zealand\", \"Singapore\", \"Taiwan\", \"South Africa\", \"Argentina\", \"Chile\", \"Colombia\", \"Peru\",\n",
    "          \"Thailand\", \"Philippines\", \"Malaysia\"]\n",
    "\n",
    "# keep only the nodes that are in the list and remove the others\n",
    "nodesToKeep = []\n",
    "nodesToRemove = []\n",
    "for node in f_list:\n",
    "    node = ccode_dictReversed[node]\n",
    "    nodesToKeep.append(node)\n",
    "\n",
    "# iterate over the nodes and remove the ones that are not in the list\n",
    "for node in G.nodes:\n",
    "    if node not in nodesToKeep:\n",
    "        nodesToRemove.append(node)\n",
    "\n",
    "# remove nodes\n",
    "for node in nodesToRemove:\n",
    "    try:\n",
    "        remove_node(G, node)\n",
    "    except:\n",
    "        pass\n",
    "\n",
    "# print the number of nodes\n",
    "print(\"Remaining nodes: \", len(G.nodes))\n",
    "print(\"Remaining edges: \", len(G.edges))\n",
    "\n",
    "# recalculate ccode_dict, accounting for the removed nodes\n",
    "new_ccode_dict = {k: v for k, v in ccode_dict.items() if k in G.nodes}\n",
    "\n",
    "# Draw the graph\n",
    "print(\"Plotting the graph\")\n",
    "drawGraph(G, \"prunedGraph.png\", new_ccode_dict)"
   ],
   "id": "204d14b06eab8ff8",
   "outputs": [
    {
     "name": "stdout",
     "output_type": "stream",
     "text": [
      "Plotting the graph\n",
      "Nodes present in the graph:  195\n",
      "Remaining nodes:  55\n",
      "Remaining edges:  1485\n",
      "Plotting the graph\n"
     ]
    }
   ],
   "execution_count": 2
  },
  {
   "metadata": {
    "ExecuteTime": {
     "end_time": "2024-07-14T14:02:57.198300Z",
     "start_time": "2024-07-14T14:02:57.173473Z"
    }
   },
   "cell_type": "code",
   "source": [
    "best_solution = {0: ['United States of America', 'Canada', 'Colombia', 'Peru', 'Argentina', 'United Kingdom', 'Poland', 'Hungary', 'Czech Republic', 'Croatia', 'Slovenia', 'Bulgaria', 'Russia', 'Estonia', 'Latvia', 'Lithuania', 'Finland', 'Denmark', 'Turkey', 'China', 'Taiwan', 'Japan', 'India', 'Thailand', 'Malaysia', 'Singapore', 'Philippines', 'Indonesia', 'Australia', 'New Zealand'], 1: ['Mexico', 'Colombia', 'Chile', 'Ireland', 'Netherlands', 'Belgium', 'Luxembourg', 'Portugal', 'Hungary', 'Czech Republic', 'Slovakia', 'Italy', 'Malta', 'Romania', 'Estonia', 'Latvia', 'Lithuania', 'Finland', 'Denmark', 'Iceland', 'Taiwan', 'Malaysia', 'Singapore'], 2: ['Canada', 'Mexico', 'Chile', 'Netherlands', 'Belgium', 'Luxembourg', 'France', 'Switzerland', 'Spain', 'Portugal', 'Germany', 'Poland', 'Austria', 'Slovakia', 'Italy', 'Malta', 'Slovenia', 'Greece', 'Cyprus', 'Bulgaria', 'Russia', 'Sweden', 'Norway', 'Iceland', 'South Africa', 'Saudi Arabia', 'South Korea', 'Thailand', 'Philippines', 'Indonesia']}\n",
    "\n",
    "best_solution = {0: [\"United States of America\", \"Italy\", \"Germany\", \"Canada\", \"China\", \"Russia\", \"Japan\", \"Brazil\", \"India\",\n",
    "          \"France\", \"United Kingdom\", \"Australia\", \"Spain\", \"Mexico\", \"South Korea\", \"Netherlands\", \"Turkey\"],1: [\n",
    "          \"Saudi Arabia\", \"Indonesia\", \"Switzerland\", \"Sweden\", \"Norway\", \"Denmark\", \"Finland\", \"Belgium\",\n",
    "          \"Austria\", \"Poland\", \"Czech Republic\", \"Portugal\", \"Greece\", \"Ireland\", \"Hungary\", \"Romania\", \"Bulgaria\"],2:[\n",
    "          \"Croatia\", \"Slovenia\", \"Slovakia\", \"Estonia\", \"Latvia\", \"Lithuania\", \"Cyprus\", \"Malta\", \"Luxembourg\",\n",
    "          \"Iceland\", \"New Zealand\", \"Singapore\", \"Taiwan\", \"South Africa\", \"Argentina\", \"Chile\", \"Colombia\", \"Peru\",\n",
    "          \"Thailand\", \"Philippines\", \"Malaysia\"]}"
   ],
   "id": "aa05abb1ec33296",
   "outputs": [],
   "execution_count": 10
  },
  {
   "metadata": {
    "ExecuteTime": {
     "end_time": "2024-07-14T14:02:58.136806Z",
     "start_time": "2024-07-14T14:02:57.318483Z"
    }
   },
   "cell_type": "code",
   "source": [
    "from Utils import drawSinglePlot\n",
    "\n",
    "#convert best solution to ccode\n",
    "for key in best_solution:\n",
    "    for i in range(len(best_solution[key])):\n",
    "        best_solution[key][i] = ccode_dictReversed[best_solution[key][i]]\n",
    "\n",
    "# we have the best solution, now we need to plot the graph with the best solution. Use a different color for each cluster\n",
    "color_map = []\n",
    "for node in G.nodes:\n",
    "    if node in best_solution[0]:\n",
    "        color_map.append('blue')\n",
    "    elif node in best_solution[1]:\n",
    "        color_map.append('red')\n",
    "    elif node in best_solution[2]:\n",
    "        color_map.append('green')\n",
    "    else:\n",
    "        color_map.append('black')\n",
    "\n",
    "# Draw the graph\n",
    "print(\"Plotting the graph\")\n",
    "drawSinglePlot(G, \"clustered_prunedGraph.png\", new_ccode_dict, color_map)"
   ],
   "id": "9cc2d469d6492a75",
   "outputs": [
    {
     "name": "stdout",
     "output_type": "stream",
     "text": [
      "Plotting the graph\n"
     ]
    }
   ],
   "execution_count": 11
  },
  {
   "metadata": {},
   "cell_type": "code",
   "outputs": [],
   "execution_count": null,
   "source": "",
   "id": "4bdab4d508da8033"
  }
 ],
 "metadata": {
  "kernelspec": {
   "display_name": "Python 3",
   "language": "python",
   "name": "python3"
  },
  "language_info": {
   "codemirror_mode": {
    "name": "ipython",
    "version": 2
   },
   "file_extension": ".py",
   "mimetype": "text/x-python",
   "name": "python",
   "nbconvert_exporter": "python",
   "pygments_lexer": "ipython2",
   "version": "2.7.6"
  }
 },
 "nbformat": 4,
 "nbformat_minor": 5
}
