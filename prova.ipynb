{
 "cells": [
  {
   "metadata": {
    "ExecuteTime": {
     "end_time": "2024-07-15T06:56:53.824858Z",
     "start_time": "2024-07-15T06:56:53.819447Z"
    }
   },
   "cell_type": "code",
   "source": [
    "import pandas as pd\n",
    "import matplotlib.pyplot as plt\n",
    "import networkx as nx\n",
    "import numpy as np\n",
    "from dwave.system import LeapHybridCQMSampler\n",
    "from dimod import ConstrainedQuadraticModel, Binary\n",
    "\n",
    "from Utils import dataPreparation, drawGraph"
   ],
   "id": "1e36ba02059127e2",
   "outputs": [],
   "execution_count": 21
  },
  {
   "metadata": {
    "ExecuteTime": {
     "end_time": "2024-07-15T06:59:12.873592Z",
     "start_time": "2024-07-15T06:58:56.119900Z"
    }
   },
   "cell_type": "code",
   "source": [
    "\n",
    "data = dataPreparation(\"Dyadic_COW_4.0.csv\")\n",
    "\n",
    "# Create an empty directed graph\n",
    "G = nx.Graph()\n",
    "\n",
    "# Add edges to the graph\n",
    "for idx, row in data.iterrows():\n",
    "    G.add_edge(row[\"ccode1\"], row[\"ccode2\"], weight=row[\"flow1_pct_change\"])\n",
    "\n",
    "# create a dictionary between country codes and country names\n",
    "ccodes = data['ccode1'].unique()\n",
    "cnames = data['importer1'].unique()\n",
    "\n",
    "ccode_dict = dict(zip(ccodes, cnames))\n",
    "ccode_dictReversed = {v: k for k, v in ccode_dict.items()}\n",
    "\n",
    "# Draw the graph\n",
    "print(\"Plotting the graph\")\n",
    "drawGraph(G, \"Media/graph.png\", ccode_dict)\n",
    "\n",
    "# print the number of nodes\n",
    "print(\"Nodes present in the graph: \", len(G.nodes))\n",
    "\n",
    "# create a method to remove a node from the graph and his edges\n",
    "def remove_node(G, node):\n",
    "    # remove the node from the graph\n",
    "    G.remove_node(node)\n",
    "\n",
    "# # list of removable nodes\n",
    "# list = [\"San Marino\", \"East Timor\", \"Monaco\", \"Yugoslavia\", \"Andorra\", \"Cape Verde\", \"Marshall Islands\", \"Vietnam\",\n",
    "#         \"Sao Tome and Principe\", \"Kiribati\", \"Tuvalu\", \"Nauru\", \"Palau\", \"Solomon Islands\", \"Vanuatu\", \"Comoros\",\n",
    "#         \"Seychelles\", \"Mauritius\", \"Maldives\", \"Liechtenstein\", \"Federated States of Micronesia\", \"Vietnam\",\n",
    "#         \"Liechtenstein\", \"South Sudan\", \"Kazakhstan\", \"Venezuela\", \"Nicaragua\"]\n",
    "\n",
    "# list of foundamental nodes\n",
    "f_list = [\"United States of America\", \"Italy\", \"Germany\", \"Canada\", \"China\", \"Russia\", \"Japan\", \"Brazil\", \"India\",\n",
    "          \"France\", \"United Kingdom\", \"Australia\", \"Spain\", \"Mexico\", \"South Korea\", \"Netherlands\", \"Turkey\",\n",
    "          \"Saudi Arabia\", \"Indonesia\", \"Switzerland\", \"Sweden\", \"Norway\", \"Denmark\", \"Finland\", \"Belgium\",\n",
    "          \"Austria\", \"Poland\", \"Czech Republic\", \"Portugal\", \"Greece\", \"Ireland\", \"Hungary\", \"Romania\", \"Bulgaria\",\n",
    "          \"Croatia\", \"Slovenia\", \"Slovakia\", \"Estonia\", \"Latvia\", \"Lithuania\", \"Cyprus\", \"Malta\", \"Luxembourg\",\n",
    "          \"Iceland\", \"New Zealand\", \"Singapore\", \"Taiwan\", \"South Africa\", \"Argentina\", \"Chile\", \"Colombia\", \"Peru\",\n",
    "          \"Thailand\", \"Philippines\", \"Malaysia\"]\n",
    "\n",
    "# keep only the nodes that are in the list and remove the others\n",
    "nodesToKeep = []\n",
    "nodesToRemove = []\n",
    "for node in f_list:\n",
    "    node = ccode_dictReversed[node]\n",
    "    nodesToKeep.append(node)\n",
    "\n",
    "# iterate over the nodes and remove the ones that are not in the list\n",
    "for node in G.nodes:\n",
    "    if node not in nodesToKeep:\n",
    "        nodesToRemove.append(node)\n",
    "\n",
    "# remove nodes\n",
    "for node in nodesToRemove:\n",
    "    try:\n",
    "        remove_node(G, node)\n",
    "    except:\n",
    "        pass\n",
    "\n",
    "# print the number of nodes\n",
    "print(\"Remaining nodes: \", len(G.nodes))\n",
    "print(\"Remaining edges: \", len(G.edges))\n",
    "\n",
    "# recalculate ccode_dict, accounting for the removed nodes\n",
    "new_ccode_dict = {k: v for k, v in ccode_dict.items() if k in G.nodes}\n",
    "\n",
    "# Draw the graph\n",
    "print(\"Plotting the graph\")\n",
    "drawGraph(G, \"Media/prunedGraph.png\", new_ccode_dict)"
   ],
   "id": "204d14b06eab8ff8",
   "outputs": [
    {
     "name": "stdout",
     "output_type": "stream",
     "text": [
      "Plotting the graph\n",
      "Nodes present in the graph:  195\n",
      "Remaining nodes:  55\n",
      "Remaining edges:  1485\n",
      "Plotting the graph\n"
     ]
    }
   ],
   "execution_count": 35
  },
  {
   "metadata": {
    "ExecuteTime": {
     "end_time": "2024-07-15T07:33:54.881189Z",
     "start_time": "2024-07-15T07:33:54.867746Z"
    }
   },
   "cell_type": "code",
   "source": [
    "def drawSinglePlot(graph, out_path, ccode_dict, color_map):\n",
    "    # Identify unique colors (clusters) in the color map\n",
    "    unique_colors = list(set(color_map))\n",
    "    clusters = {color: [] for color in unique_colors}\n",
    "    \n",
    "    # Group nodes by their cluster color\n",
    "    for node, color in zip(graph.nodes(), color_map):\n",
    "        clusters[color].append(node)\n",
    "    \n",
    "    # Create a supergraph where each cluster is a node\n",
    "    supergraph = nx.cycle_graph(len(clusters))\n",
    "    superpos = nx.spring_layout(supergraph, scale=10, seed=429)\n",
    "\n",
    "    # Use the supernode positions as the center of each node cluster\n",
    "    centers = list(superpos.values())\n",
    "    pos = {}\n",
    "    \n",
    "    for center, (color, nodes) in zip(centers, clusters.items()):\n",
    "        subgraph = graph.subgraph(nodes)\n",
    "        sub_pos = nx.spring_layout(subgraph, center=center, scale=10, seed=1430)  # Increase scale for spacing\n",
    "        pos.update(sub_pos)\n",
    "\n",
    "    # Draw the graph\n",
    "    plt.figure(figsize=(20, 10))\n",
    "    plt.title(\"Graph Representation of DataFrame\")\n",
    "\n",
    "    # Draw nodes with the color map\n",
    "    for color in unique_colors:\n",
    "        nodes = clusters[color]\n",
    "        nx.draw_networkx_nodes(graph, pos=pos, nodelist=nodes, node_color=color, node_size=100)\n",
    "\n",
    "    # Draw node labels with adjusted vertical alignment\n",
    "    label_pos = {k: (v[0], v[1] - 0.9) for k, v in pos.items()}  # Offset the label position slightly below the node\n",
    "    nx.draw_networkx_labels(graph, label_pos, font_size=10, labels=ccode_dict, font_color='black', verticalalignment='center')\n",
    "\n",
    "    # Save the plot\n",
    "    plt.savefig(out_path)\n",
    "    plt.close()"
   ],
   "id": "2698692992b96db9",
   "outputs": [],
   "execution_count": 121
  },
  {
   "metadata": {
    "ExecuteTime": {
     "end_time": "2024-07-15T07:33:55.075654Z",
     "start_time": "2024-07-15T07:33:55.062098Z"
    }
   },
   "cell_type": "code",
   "source": [
    "best_solution = {0: ['United States of America', 'Canada', 'Colombia', 'Peru', 'Argentina', 'United Kingdom', 'Poland', 'Hungary', 'Czech Republic', 'Croatia', 'Slovenia', 'Bulgaria', 'Russia', 'Estonia', 'Latvia', 'Lithuania', 'Finland', 'Denmark', 'Turkey', 'China', 'Taiwan', 'Japan', 'India', 'Thailand', 'Malaysia', 'Singapore', 'Philippines', 'Indonesia', 'Australia', 'New Zealand'], 1: ['Mexico', 'Colombia', 'Chile', 'Ireland', 'Netherlands', 'Belgium', 'Luxembourg', 'Portugal', 'Hungary', 'Czech Republic', 'Slovakia', 'Italy', 'Malta', 'Romania', 'Estonia', 'Latvia', 'Lithuania', 'Finland', 'Denmark', 'Iceland', 'Taiwan', 'Malaysia', 'Singapore'], 2: ['Canada', 'Mexico', 'Chile', 'Netherlands', 'Belgium', 'Luxembourg', 'France', 'Switzerland', 'Spain', 'Portugal', 'Germany', 'Poland', 'Austria', 'Slovakia', 'Italy', 'Malta', 'Slovenia', 'Greece', 'Cyprus', 'Bulgaria', 'Russia', 'Sweden', 'Norway', 'Iceland', 'South Africa', 'Saudi Arabia', 'South Korea', 'Thailand', 'Philippines', 'Indonesia']}\n",
    "\n",
    "best_solution = {0: [\"United States of America\", \"Italy\", \"Germany\", \"Canada\", \"China\", \"Russia\", \"Japan\", \"Brazil\", \"India\", \"France\", \"United Kingdom\", \"Australia\", \"Spain\", \"Mexico\", \"South Korea\", \"Netherlands\", \"Turkey\"],1: [\n",
    "          \"Saudi Arabia\", \"Indonesia\", \"Switzerland\", \"Sweden\", \"Norway\", \"Denmark\", \"Finland\", \"Belgium\",\n",
    "          \"Austria\", \"Poland\", \"Czech Republic\", \"Portugal\", \"Greece\", \"Ireland\", \"Hungary\", \"Romania\", \"Bulgaria\"],2:[\n",
    "          \"Croatia\", \"Slovenia\", \"Slovakia\", \"Estonia\", \"Latvia\", \"Lithuania\", \"Cyprus\", \"Malta\", \"Luxembourg\",\n",
    "          \"Iceland\", \"New Zealand\", \"Singapore\", \"Taiwan\", \"South Africa\", \"Argentina\", \"Chile\", \"Colombia\", \"Peru\",\n",
    "          \"Thailand\", \"Philippines\", \"Malaysia\"]}"
   ],
   "id": "aa05abb1ec33296",
   "outputs": [],
   "execution_count": 122
  },
  {
   "metadata": {
    "ExecuteTime": {
     "end_time": "2024-07-15T07:33:55.681994Z",
     "start_time": "2024-07-15T07:33:55.169284Z"
    }
   },
   "cell_type": "code",
   "source": [
    "#convert best solution to ccode\n",
    "for key in best_solution:\n",
    "    for i in range(len(best_solution[key])):\n",
    "        best_solution[key][i] = ccode_dictReversed[best_solution[key][i]]\n",
    "\n",
    "# we have the best solution, now we need to plot the graph with the best solution. Use a different color for each cluster\n",
    "color_map = []\n",
    "for node in G.nodes:\n",
    "    if node in best_solution[0]:\n",
    "        color_map.append('blue')\n",
    "    elif node in best_solution[1]:\n",
    "        color_map.append('orange')\n",
    "    elif node in best_solution[2]:\n",
    "        color_map.append('green')\n",
    "    else:\n",
    "        color_map.append('black')\n",
    "\n",
    "# Draw the graph\n",
    "print(\"Plotting the graph\")\n",
    "drawSinglePlot(G, \"Media/clustered_prunedGraph.png\", new_ccode_dict, color_map)"
   ],
   "id": "9cc2d469d6492a75",
   "outputs": [
    {
     "name": "stdout",
     "output_type": "stream",
     "text": [
      "Plotting the graph\n"
     ]
    }
   ],
   "execution_count": 123
  },
  {
   "metadata": {},
   "cell_type": "code",
   "outputs": [],
   "execution_count": null,
   "source": "",
   "id": "f1a78346776566fc"
  }
 ],
 "metadata": {
  "kernelspec": {
   "display_name": "Python 3",
   "language": "python",
   "name": "python3"
  },
  "language_info": {
   "codemirror_mode": {
    "name": "ipython",
    "version": 2
   },
   "file_extension": ".py",
   "mimetype": "text/x-python",
   "name": "python",
   "nbconvert_exporter": "python",
   "pygments_lexer": "ipython2",
   "version": "2.7.6"
  }
 },
 "nbformat": 4,
 "nbformat_minor": 5
}
